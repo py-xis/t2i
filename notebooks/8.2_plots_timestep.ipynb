{
 "cells": [
  {
   "cell_type": "code",
   "execution_count": 1,
   "metadata": {},
   "outputs": [],
   "source": [
    "import numpy as np\n",
    "import pandas as pd\n",
    "from matplotlib import pyplot as plt\n",
    "from PIL import Image\n",
    "\n",
    "plt.rcParams.update(\n",
    "    {\n",
    "        \"pgf.texsystem\": \"pdflatex\",\n",
    "        \"font.family\": \"serif\",\n",
    "        \"font.size\": 15,  # Set font size to 11pt\n",
    "        \"axes.labelsize\": 15,  # -> axis labels\n",
    "        \"xtick.labelsize\": 12,\n",
    "        \"ytick.labelsize\": 12,\n",
    "        \"legend.fontsize\": 12,\n",
    "        \"lines.linewidth\": 2,\n",
    "        \"text.usetex\": False,\n",
    "        \"pgf.rcfonts\": False,\n",
    "    }\n",
    ")\n",
    "\n",
    "\n",
    "def image_grid(imgs, rows, cols):\n",
    "    assert len(imgs) == rows * cols\n",
    "\n",
    "    w, h = imgs[0].shape[1], imgs[0].shape[0]\n",
    "    grid = Image.new(\"RGB\", size=(cols * w, rows * h))\n",
    "    for i, img in enumerate(imgs):\n",
    "        img = img.astype(np.uint8)\n",
    "        grid.paste(Image.fromarray(img), box=(i % cols * w, i // cols * h))\n",
    "    return grid\n"
   ]
  },
  {
   "cell_type": "code",
   "execution_count": 2,
   "metadata": {},
   "outputs": [],
   "source": [
    "metrics_sdxl = pd.read_csv(\n",
    "    \"/storage2/bartosz/code/t2i2/results_sd3/glyph_simple/timestep_search/20240917_210950_seed_42_n_samples_per_prompt_1_n_inference_steps_28_guidance_scale_7.0_max_timestep_10_attentions_to_patch_10/metrics.csv\"\n",
    ")"
   ]
  },
  {
   "cell_type": "code",
   "execution_count": null,
   "metadata": {},
   "outputs": [],
   "source": [
    "import matplotlib.pyplot as plt\n",
    "\n",
    "plt.figure(figsize=(10, 5))\n",
    "\n",
    "x = np.arange(len(metrics_sdxl[\"Block_patched\"].unique()) - 2)\n",
    "\n",
    "ocr_f1s_b_sdxl = [\n",
    "    (\n",
    "        2\n",
    "        * metrics_sdxl.loc[metrics_sdxl[\"Block_patched\"] == run, \"OCR_B_Prec\"].mean()\n",
    "        * metrics_sdxl.loc[metrics_sdxl[\"Block_patched\"] == run, \"OCR_B_Rec\"].mean()\n",
    "    )\n",
    "    / (\n",
    "        metrics_sdxl.loc[metrics_sdxl[\"Block_patched\"] == run, \"OCR_B_Prec\"].mean()\n",
    "        + metrics_sdxl.loc[metrics_sdxl[\"Block_patched\"] == run, \"OCR_B_Rec\"].mean()\n",
    "        + 1e-6\n",
    "    )\n",
    "    for run in metrics_sdxl[\"Block_patched\"].unique()\n",
    "][2:]\n",
    "\n",
    "clip_b_sdxl = [\n",
    "    metrics_sdxl.loc[metrics_sdxl[\"Block_patched\"] == run, \"CLIPScore_prompt_B\"].mean()\n",
    "    for run in metrics_sdxl[\"Block_patched\"].unique()\n",
    "][2:]\n",
    "\n",
    "leves_b_sdxl = [\n",
    "    metrics_sdxl.loc[metrics_sdxl[\"Block_patched\"] == run, \"Levenshtein_B\"].mean() / 10\n",
    "    for run in metrics_sdxl[\"Block_patched\"].unique()\n",
    "][2:]\n",
    "\n",
    "plt.plot(ocr_f1s_b_sdxl, label=r\"OCR F1 $\\uparrow$\", marker=\"o\")\n",
    "plt.plot(clip_b_sdxl, label=r\"CLIP-T $\\uparrow$\", marker=\"o\")\n",
    "plt.plot(leves_b_sdxl, label=r\"LD $\\times 10^{-1}$ $\\downarrow$\", marker=\"o\")\n",
    "\n",
    "plt.xticks(x, [f\"{i}\" for i in range(len(metrics_sdxl[\"Block_patched\"].unique()) - 2)])\n",
    "\n",
    "plt.title(\"SD3 start patching timestep - text alignment\")\n",
    "plt.xlabel(\"Timestep\")\n",
    "plt.grid()\n",
    "\n",
    "plt.legend(loc=\"upper center\", bbox_to_anchor=(0.5, 1.25), ncol=3)\n",
    "plt.tight_layout()\n",
    "# plt.show()\n",
    "plt.savefig(\"timestep_sd3_text.pdf\", bbox_inches=\"tight\")\n"
   ]
  },
  {
   "cell_type": "code",
   "execution_count": null,
   "metadata": {},
   "outputs": [],
   "source": [
    "import matplotlib.pyplot as plt\n",
    "import numpy as np\n",
    "\n",
    "plt.figure(figsize=(10, 5))\n",
    "\n",
    "x = np.arange(len(metrics_sdxl[\"Block_patched\"].unique()) - 2)\n",
    "\n",
    "mses = [\n",
    "    metrics_sdxl.loc[metrics_sdxl[\"Block_patched\"] == run, \"MSE\"].mean() / 100\n",
    "    for run in metrics_sdxl[\"Block_patched\"].unique()\n",
    "][2:]\n",
    "ssims = [\n",
    "    metrics_sdxl.loc[metrics_sdxl[\"Block_patched\"] == run, \"SSIM\"].mean()\n",
    "    for run in metrics_sdxl[\"Block_patched\"].unique()\n",
    "][2:]\n",
    "psnrs = [\n",
    "    metrics_sdxl.loc[metrics_sdxl[\"Block_patched\"] == run, \"PSNR\"].mean() / 100\n",
    "    for run in metrics_sdxl[\"Block_patched\"].unique()\n",
    "][2:]\n",
    "\n",
    "clips_i = [\n",
    "    metrics_sdxl.loc[metrics_sdxl[\"Block_patched\"] == run, \"CLIPScore_image\"].mean()\n",
    "    for run in metrics_sdxl[\"Block_patched\"].unique()\n",
    "][2:]\n",
    "\n",
    "plt.plot(mses, label=r\"MSE $\\times 10^{-2}$  $\\downarrow$\", marker=\"o\")\n",
    "plt.plot(ssims, label=r\"SSIM $\\uparrow$\", marker=\"o\")\n",
    "plt.plot(psnrs, label=r\"PSNR $\\times 10^{-2}$ $\\downarrow$\", marker=\"o\")\n",
    "# plt.plot(clips_i, label=r\"CLIP-I $\\uparrow$\", marker=\"o\")\n",
    "\n",
    "\n",
    "plt.xticks(x, [f\"{i}\" for i in range(len(metrics_sdxl[\"Block_patched\"].unique()) - 2)])\n",
    "\n",
    "plt.title(\"SD3 start patching timestep - image alignment\")\n",
    "plt.xlabel(\"Timestep\")\n",
    "plt.grid()\n",
    "\n",
    "plt.legend(loc=\"upper center\", bbox_to_anchor=(0.5, 1.25), ncol=4)\n",
    "plt.tight_layout()\n",
    "# plt.show()\n",
    "plt.savefig(\"timestep_sd3_image.pdf\", bbox_inches=\"tight\")\n"
   ]
  },
  {
   "cell_type": "code",
   "execution_count": null,
   "metadata": {},
   "outputs": [],
   "source": [
    "metrics_sdxl.columns"
   ]
  },
  {
   "cell_type": "code",
   "execution_count": null,
   "metadata": {},
   "outputs": [],
   "source": [
    "import matplotlib.pyplot as plt\n",
    "import numpy as np\n",
    "\n",
    "plt.figure(figsize=(20, 10))\n",
    "\n",
    "x = np.arange(len(metrics_sdxl[\"Block_patched\"].unique()) - 2)\n",
    "width = 0.1  # Width of each bar\n",
    "\n",
    "mses_sdxl = [\n",
    "    metrics_sdxl.loc[metrics_sdxl[\"Block_patched\"] == run, \"MSE\"].mean() / 10000\n",
    "    for run in metrics_sdxl[\"Block_patched\"].unique()\n",
    "][2:]\n",
    "ssims = [\n",
    "    metrics_sdxl.loc[metrics_sdxl[\"Block_patched\"] == run, \"SSIM\"].mean()\n",
    "    for run in metrics_sdxl[\"Block_patched\"].unique()\n",
    "][2:]\n",
    "psnrs = [\n",
    "    metrics_sdxl.loc[metrics_sdxl[\"Block_patched\"] == run, \"PSNR\"].mean() / 100\n",
    "    for run in metrics_sdxl[\"Block_patched\"].unique()\n",
    "][2:]\n",
    "\n",
    "\n",
    "plt.bar(x - 1.5 * width, mses_sdxl, width, label=\"SD-XL MSE\", edgecolor=\"black\")\n",
    "plt.bar(x - 0.5 * width, ssims, width, label=\"SD-XL SSIM\", edgecolor=\"black\")\n",
    "plt.bar(x + 0.5 * width, psnrs, width, label=\"SD-XL PSNR\", edgecolor=\"black\")\n",
    "\n",
    "plt.xticks(x, [f\"timestep_{i}\" for i in range(10)], rotation=45)\n",
    "\n",
    "plt.title(\"SimpleBench timestep start patching\")\n",
    "plt.xlabel(\"Patched\")\n",
    "plt.grid(axis=\"y\")\n",
    "plt.ylabel(\"OCR F1 B\")\n",
    "\n",
    "plt.legend(loc=\"upper center\", bbox_to_anchor=(0.5, 1.2), ncol=8)\n",
    "plt.tight_layout()\n",
    "# plt.show()\n",
    "plt.savefig(\"timestep.pdf\", bbox_inches=\"tight\")\n"
   ]
  },
  {
   "cell_type": "code",
   "execution_count": null,
   "metadata": {},
   "outputs": [],
   "source": [
    "np.argsort(ocr_f1s_b_sdxl[2:])[::-1]"
   ]
  },
  {
   "cell_type": "code",
   "execution_count": null,
   "metadata": {},
   "outputs": [],
   "source": [
    "ocr_f1s_b_sdxl[2:]"
   ]
  },
  {
   "cell_type": "code",
   "execution_count": null,
   "metadata": {},
   "outputs": [],
   "source": [
    "np.argsort(clip_b_sdxl[2:])[::-1]"
   ]
  },
  {
   "cell_type": "code",
   "execution_count": 12,
   "metadata": {},
   "outputs": [],
   "source": [
    "ims = np.load(\n",
    "    \"/storage2/bartosz/code/t2i2/results_sd3/glyph_simple/timestep_search/model_stable-diffusion-3-medium-diffusers_seed_42_samples_1_batch_8_device_cuda_steps_28_attn_10_heads_None_guidance_scale_9.0_20240908_113407/None.npy\"\n",
    ")"
   ]
  },
  {
   "cell_type": "code",
   "execution_count": null,
   "metadata": {},
   "outputs": [],
   "source": [
    "image_grid(ims[:4], 1, 4)  # A"
   ]
  },
  {
   "cell_type": "code",
   "execution_count": null,
   "metadata": {},
   "outputs": [],
   "source": [
    "image_grid(ims[:4], 1, 4)  # 0"
   ]
  },
  {
   "cell_type": "code",
   "execution_count": null,
   "metadata": {},
   "outputs": [],
   "source": [
    "image_grid(ims[:4], 1, 4)  # 1"
   ]
  },
  {
   "cell_type": "code",
   "execution_count": null,
   "metadata": {},
   "outputs": [],
   "source": [
    "image_grid(ims[:4], 1, 4)  # 2"
   ]
  },
  {
   "cell_type": "code",
   "execution_count": null,
   "metadata": {},
   "outputs": [],
   "source": []
  }
 ],
 "metadata": {
  "kernelspec": {
   "display_name": "Python 3 (ipykernel)",
   "language": "python",
   "name": "python3"
  },
  "language_info": {
   "codemirror_mode": {
    "name": "ipython",
    "version": 3
   },
   "file_extension": ".py",
   "mimetype": "text/x-python",
   "name": "python",
   "nbconvert_exporter": "python",
   "pygments_lexer": "ipython3",
   "version": "3.11.9"
  }
 },
 "nbformat": 4,
 "nbformat_minor": 2
}
