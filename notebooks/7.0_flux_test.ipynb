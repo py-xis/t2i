{
 "cells": [
  {
   "cell_type": "code",
   "execution_count": null,
   "metadata": {},
   "outputs": [],
   "source": [
    "import torch\n",
    "from huggingface_hub import hf_hub_download\n",
    "from diffusers import FluxTransformer2DModel, DiffusionPipeline\n",
    "\n",
    "dtype, device = torch.bfloat16, \"cuda\"\n",
    "ckpt_id = \"black-forest-labs/FLUX.1-schnell\"\n",
    "\n",
    "with torch.device(\"meta\"):\n",
    "    config = FluxTransformer2DModel.load_config(ckpt_id, subfolder=\"transformer\")\n",
    "    model = FluxTransformer2DModel.from_config(config).to(dtype)\n",
    "\n",
    "ckpt_path = hf_hub_download(\n",
    "    repo_id=\"sayakpaul/flux.1-schell-int8wo\", filename=\"flux_schnell_int8wo.pt\"\n",
    ")\n",
    "state_dict = torch.load(ckpt_path, map_location=\"cpu\")\n",
    "model.load_state_dict(state_dict, assign=True)\n",
    "\n",
    "pipeline = DiffusionPipeline.from_pretrained(\n",
    "    ckpt_id, transformer=model, torch_dtype=dtype\n",
    ").to(\"cuda\")\n",
    "image = pipeline(\n",
    "    \"cat\", guidance_scale=0.0, num_inference_steps=4, max_sequence_length=256\n",
    ").images[0]\n",
    "image.save(\"flux_schnell_int8.png\")"
   ]
  }
 ],
 "metadata": {
  "kernelspec": {
   "display_name": "Python 3 (ipykernel)",
   "language": "python",
   "name": "python3"
  },
  "language_info": {
   "codemirror_mode": {
    "name": "ipython",
    "version": 3
   },
   "file_extension": ".py",
   "mimetype": "text/x-python",
   "name": "python",
   "nbconvert_exporter": "python",
   "pygments_lexer": "ipython3",
   "version": "3.11.9"
  }
 },
 "nbformat": 4,
 "nbformat_minor": 2
}
